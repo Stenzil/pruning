{
 "cells": [
  {
   "cell_type": "code",
   "execution_count": 1,
   "metadata": {},
   "outputs": [],
   "source": [
    "\n",
    "import tensorflow as tf\n",
    "import seaborn as sns\n",
    "import matplotlib.pyplot as plt\n",
    "import pandas as  pd\n",
    "import numpy as np\n",
    "import math\n",
    "from tqdm import tqdm\n",
    "\n",
    "num_epochs=100\n",
    "batch_size=64\n"
   ]
  },
  {
   "cell_type": "code",
   "execution_count": 2,
   "metadata": {},
   "outputs": [],
   "source": [
    "tf.set_random_seed(7)\n",
    "class model():\n",
    "    def __init__(self):\n",
    "        with tf.Graph().as_default():\n",
    "            self.x=tf.placeholder(tf.float32,shape=[None,784])\n",
    "            self.labels=tf.placeholder(tf.int32,shape=[None])\n",
    "            \n",
    "            #network\n",
    "            self.layer1=tf.layers.dense(self.x,1000,activation=tf.nn.relu,use_bias=False)\n",
    "            self.layer2=tf.layers.dense(self.layer1,1000,activation=tf.nn.relu,use_bias=False)\n",
    "            self.layer3=tf.layers.dense(self.layer2,500,activation=tf.nn.relu,use_bias=False)\n",
    "            self.layer4=tf.layers.dense(self.layer3,200,activation=tf.nn.relu,use_bias=False)\n",
    "            self.logits=tf.layers.dense(self.layer4,10,use_bias=False)\n",
    "            self.probs=tf.nn.softmax(self.logits,axis=1)\n",
    "            \n",
    "            \n",
    "            self.loss=tf.nn.sparse_softmax_cross_entropy_with_logits(labels=self.labels,logits=self.logits)\n",
    "            self.loss=tf.reduce_mean(self.loss)\n",
    "            \n",
    "            self.trainable_vars=tf.trainable_variables()#holds trainable variables for pruning\n",
    "            self.varstosparsify=self.trainable_vars[:-1]#no pruning for last layer\n",
    "            self.last_layer=self.trainable_vars[-1]\n",
    "            \n",
    "            \n",
    "            self.sparsified_weights=[]#to hold sparse tensors       \n",
    "            self.pruned_weights=[]#to hold dense pruned weights\n",
    "            \n",
    "            self.opt=tf.train.AdamOptimizer(1e-5).minimize(self.loss)\n",
    "            self.saver=tf.train.Saver()\n",
    "            self.graph=tf.get_default_graph()   \n",
    "    def weightpruneeager(self,weight,percentile):  \n",
    "        #this function is used for weight pruning\n",
    "        weight_numpy=weight.numpy()\n",
    "        val=np.percentile(np.abs(weight_numpy),percentile)\n",
    "        mask=np.abs(weight_numpy)<val#get mask to be set to zero\n",
    "        weight_numpy[mask]=0\n",
    "        denseweight=tf.convert_to_tensor(weight_numpy)\n",
    "        self.pruned_weights.append(denseweight)#add dense tensors\n",
    "        self.sparsified_weights.append(tf.contrib.layers.dense_to_sparse(denseweight))#add sparsified tensors \n",
    "        return denseweight\n",
    "    def unitpruneeager(self,weight,percentile):\n",
    "        #this function is used for unit pruning\n",
    "        weight_numpy=weight.numpy()\n",
    "        col_norm = np.linalg.norm(weight_numpy, axis=0)#get l2 norm of each column\n",
    "        val= np.percentile(col_norm, percentile)\n",
    "        mask = col_norm < val#get mask\n",
    "        weight_numpy[:,mask] = 0\n",
    "        weight_numpy=tf.convert_to_tensor(weight_numpy)\n",
    "        self.pruned_weights.append(weight_numpy)\n",
    "        self.sparsified_weights.append(tf.contrib.layers.dense_to_sparse(weight_numpy))\n",
    "        return weight_numpy\n",
    "    def sparseevaluateeager(self,x):\n",
    "        #evaluating the model using sparse matrix multiplications\n",
    "        #no transpose is required as the transposed matrix is sent from feed_dict\n",
    "        #the returned result is (10,batch_size)\n",
    "        sparsed_weights=self.sparsified_weights\n",
    "        a1=tf.nn.relu(tf.sparse.matmul(sparsed_weights[0],x,adjoint_a=True))\n",
    "        a2=tf.nn.relu(tf.sparse.matmul(sparsed_weights[1],a1,adjoint_a=True))\n",
    "        a3=tf.nn.relu(tf.sparse.matmul(sparsed_weights[2],a2,adjoint_a=True))\n",
    "        a4=tf.nn.relu(tf.sparse.matmul(sparsed_weights[3],a3,adjoint_a=True))\n",
    "        preds=tf.matmul(tf.convert_to_tensor(sparsed_weights[4]),a4)\n",
    "        return preds\n",
    "    def denseevaluateeager(self,x):\n",
    "        #evaluating the model using pruned weights and normal matmul\n",
    "        #the returned result is (batch_size,10)\n",
    "        pruned_weights=self.pruned_weights\n",
    "        a1=tf.nn.relu(tf.matmul(x,pruned_weights[0]))\n",
    "        a2=tf.nn.relu(tf.matmul(a1,pruned_weights[1]))\n",
    "        a3=tf.nn.relu(tf.matmul(a2,pruned_weights[2]))\n",
    "        a4=tf.nn.relu(tf.matmul(a3,pruned_weights[3]))\n",
    "        preds=tf.nn.softmax(tf.matmul(a4,tf.convert_to_tensor(pruned_weights[4])),axis=1)\n",
    "        return preds\n",
    "    \n",
    "        \n",
    "\n",
    "     \n",
    "\n"
   ]
  },
  {
   "cell_type": "code",
   "execution_count": 3,
   "metadata": {},
   "outputs": [],
   "source": [
    "model=model()"
   ]
  },
  {
   "cell_type": "code",
   "execution_count": 4,
   "metadata": {},
   "outputs": [
    {
     "name": "stdout",
     "output_type": "stream",
     "text": [
      "WARNING:tensorflow:From <ipython-input-4-a7f8fe443615>:1: load_dataset (from tensorflow.contrib.learn.python.learn.datasets) is deprecated and will be removed in a future version.\n",
      "Instructions for updating:\n",
      "Please use tf.data.\n",
      "WARNING:tensorflow:From /home/aniket/.local/lib/python3.5/site-packages/tensorflow/contrib/learn/python/learn/datasets/__init__.py:80: load_mnist (from tensorflow.contrib.learn.python.learn.datasets.mnist) is deprecated and will be removed in a future version.\n",
      "Instructions for updating:\n",
      "Please use alternatives such as official/mnist/dataset.py from tensorflow/models.\n",
      "WARNING:tensorflow:From /home/aniket/.local/lib/python3.5/site-packages/tensorflow/contrib/learn/python/learn/datasets/mnist.py:300: read_data_sets (from tensorflow.contrib.learn.python.learn.datasets.mnist) is deprecated and will be removed in a future version.\n",
      "Instructions for updating:\n",
      "Please use alternatives such as official/mnist/dataset.py from tensorflow/models.\n",
      "WARNING:tensorflow:From /home/aniket/.local/lib/python3.5/site-packages/tensorflow/contrib/learn/python/learn/datasets/mnist.py:260: maybe_download (from tensorflow.contrib.learn.python.learn.datasets.base) is deprecated and will be removed in a future version.\n",
      "Instructions for updating:\n",
      "Please write your own downloading logic.\n",
      "WARNING:tensorflow:From /home/aniket/.local/lib/python3.5/site-packages/tensorflow/contrib/learn/python/learn/datasets/mnist.py:262: extract_images (from tensorflow.contrib.learn.python.learn.datasets.mnist) is deprecated and will be removed in a future version.\n",
      "Instructions for updating:\n",
      "Please use tf.data to implement this functionality.\n",
      "Extracting MNIST-data/train-images-idx3-ubyte.gz\n",
      "WARNING:tensorflow:From /home/aniket/.local/lib/python3.5/site-packages/tensorflow/contrib/learn/python/learn/datasets/mnist.py:267: extract_labels (from tensorflow.contrib.learn.python.learn.datasets.mnist) is deprecated and will be removed in a future version.\n",
      "Instructions for updating:\n",
      "Please use tf.data to implement this functionality.\n",
      "Extracting MNIST-data/train-labels-idx1-ubyte.gz\n",
      "Extracting MNIST-data/t10k-images-idx3-ubyte.gz\n",
      "Extracting MNIST-data/t10k-labels-idx1-ubyte.gz\n",
      "WARNING:tensorflow:From /home/aniket/.local/lib/python3.5/site-packages/tensorflow/contrib/learn/python/learn/datasets/mnist.py:290: DataSet.__init__ (from tensorflow.contrib.learn.python.learn.datasets.mnist) is deprecated and will be removed in a future version.\n",
      "Instructions for updating:\n",
      "Please use alternatives such as official/mnist/dataset.py from tensorflow/models.\n",
      "(55000, 1)\n"
     ]
    }
   ],
   "source": [
    "#getting the dataset\n",
    "mnist = tf.contrib.learn.datasets.load_dataset(\"mnist\")\n",
    "train_data = mnist.train.images # Returns np.array\n",
    "train_labels = np.asarray(mnist.train.labels, dtype=np.int32).reshape((-1,1))\n",
    "eval_data = mnist.test.images # Returns np.array\n",
    "eval_labels = np.asarray(mnist.test.labels, dtype=np.int32).reshape((-1,1))\n",
    "print(train_labels.shape)"
   ]
  },
  {
   "cell_type": "code",
   "execution_count": 5,
   "metadata": {},
   "outputs": [],
   "source": [
    "#shuffle the dataset\n",
    "train=np.concatenate((train_data,train_labels),axis=1)\n",
    "eval=np.concatenate((eval_data,eval_labels),axis=1)\n",
    "np.random.shuffle(train)\n",
    "np.random.shuffle(eval)\n"
   ]
  },
  {
   "cell_type": "code",
   "execution_count": 6,
   "metadata": {},
   "outputs": [],
   "source": [
    "#split dataset into batches\n",
    "train_batches=np.array_split(train,math.ceil(train.shape[0]/batch_size),axis=0)\n",
    "eval_batches=np.array_split(eval,math.ceil(eval.shape[0]/batch_size),axis=0)\n"
   ]
  },
  {
   "cell_type": "code",
   "execution_count": 7,
   "metadata": {},
   "outputs": [],
   "source": [
    "#function to get number of correctly classified instances of the current batch\n",
    "def checkequal(p,a,axis=1):\n",
    "    p=np.argmax(p,axis=axis)\n",
    "    if axis==0: p=p.T\n",
    "    return np.sum(p==a)"
   ]
  },
  {
   "cell_type": "code",
   "execution_count": 11,
   "metadata": {
    "scrolled": true
   },
   "outputs": [
    {
     "name": "stderr",
     "output_type": "stream",
     "text": [
      "100%|██████████| 860/860 [00:02<00:00, 305.00it/s]\n",
      "  4%|▎         | 32/860 [00:00<00:02, 316.46it/s]"
     ]
    },
    {
     "name": "stdout",
     "output_type": "stream",
     "text": [
      "0 loss:0.9295457084338332 train_acc:0.7907818181818181 test_acc:0.9123\n"
     ]
    },
    {
     "name": "stderr",
     "output_type": "stream",
     "text": [
      "100%|██████████| 860/860 [00:02<00:00, 329.16it/s]\n",
      "  4%|▍         | 33/860 [00:00<00:02, 322.37it/s]"
     ]
    },
    {
     "name": "stdout",
     "output_type": "stream",
     "text": [
      "1 loss:0.2976923737068509 train_acc:0.9174727272727272 test_acc:0.9323\n"
     ]
    },
    {
     "name": "stderr",
     "output_type": "stream",
     "text": [
      "100%|██████████| 860/860 [00:02<00:00, 331.49it/s]\n",
      "  4%|▎         | 32/860 [00:00<00:02, 311.94it/s]"
     ]
    },
    {
     "name": "stdout",
     "output_type": "stream",
     "text": [
      "2 loss:0.23080644968377295 train_acc:0.9353636363636364 test_acc:0.9432\n"
     ]
    },
    {
     "name": "stderr",
     "output_type": "stream",
     "text": [
      "100%|██████████| 860/860 [00:02<00:00, 328.06it/s]\n",
      "  4%|▍         | 33/860 [00:00<00:02, 326.24it/s]"
     ]
    },
    {
     "name": "stdout",
     "output_type": "stream",
     "text": [
      "3 loss:0.1945404735458798 train_acc:0.9452 test_acc:0.9504\n"
     ]
    },
    {
     "name": "stderr",
     "output_type": "stream",
     "text": [
      "100%|██████████| 860/860 [00:02<00:00, 329.59it/s]\n",
      "  4%|▎         | 31/860 [00:00<00:02, 309.75it/s]"
     ]
    },
    {
     "name": "stdout",
     "output_type": "stream",
     "text": [
      "4 loss:0.16922164737831716 train_acc:0.9522 test_acc:0.9549\n"
     ]
    },
    {
     "name": "stderr",
     "output_type": "stream",
     "text": [
      "100%|██████████| 860/860 [00:02<00:00, 329.39it/s]\n",
      "  4%|▍         | 34/860 [00:00<00:02, 335.21it/s]"
     ]
    },
    {
     "name": "stdout",
     "output_type": "stream",
     "text": [
      "5 loss:0.14968272021343543 train_acc:0.9578909090909091 test_acc:0.9588\n"
     ]
    },
    {
     "name": "stderr",
     "output_type": "stream",
     "text": [
      "100%|██████████| 860/860 [00:02<00:00, 330.49it/s]\n",
      "  4%|▍         | 34/860 [00:00<00:02, 332.29it/s]"
     ]
    },
    {
     "name": "stdout",
     "output_type": "stream",
     "text": [
      "6 loss:0.13384987749809096 train_acc:0.9619090909090909 test_acc:0.9611\n"
     ]
    },
    {
     "name": "stderr",
     "output_type": "stream",
     "text": [
      "100%|██████████| 860/860 [00:02<00:00, 329.97it/s]\n",
      "  4%|▎         | 32/860 [00:00<00:02, 317.76it/s]"
     ]
    },
    {
     "name": "stdout",
     "output_type": "stream",
     "text": [
      "7 loss:0.12065298473245875 train_acc:0.9658181818181818 test_acc:0.9635\n"
     ]
    },
    {
     "name": "stderr",
     "output_type": "stream",
     "text": [
      "100%|██████████| 860/860 [00:02<00:00, 328.36it/s]\n",
      "  4%|▍         | 34/860 [00:00<00:02, 335.76it/s]"
     ]
    },
    {
     "name": "stdout",
     "output_type": "stream",
     "text": [
      "8 loss:0.10937628942260215 train_acc:0.9692181818181819 test_acc:0.9653\n"
     ]
    },
    {
     "name": "stderr",
     "output_type": "stream",
     "text": [
      "100%|██████████| 860/860 [00:02<00:00, 330.51it/s]\n",
      "  4%|▍         | 33/860 [00:00<00:02, 328.11it/s]"
     ]
    },
    {
     "name": "stdout",
     "output_type": "stream",
     "text": [
      "9 loss:0.09961231565102935 train_acc:0.9721090909090909 test_acc:0.9676\n"
     ]
    },
    {
     "name": "stderr",
     "output_type": "stream",
     "text": [
      "100%|██████████| 860/860 [00:02<00:00, 329.43it/s]\n",
      "  4%|▍         | 33/860 [00:00<00:02, 329.48it/s]"
     ]
    },
    {
     "name": "stdout",
     "output_type": "stream",
     "text": [
      "10 loss:0.09102285941846149 train_acc:0.974690909090909 test_acc:0.9692\n"
     ]
    },
    {
     "name": "stderr",
     "output_type": "stream",
     "text": [
      "100%|██████████| 860/860 [00:02<00:00, 326.26it/s]\n",
      "  4%|▍         | 33/860 [00:00<00:02, 320.53it/s]"
     ]
    },
    {
     "name": "stdout",
     "output_type": "stream",
     "text": [
      "11 loss:0.08339060679467958 train_acc:0.9769636363636364 test_acc:0.9706\n"
     ]
    },
    {
     "name": "stderr",
     "output_type": "stream",
     "text": [
      "100%|██████████| 860/860 [00:02<00:00, 328.13it/s]\n",
      "  4%|▍         | 33/860 [00:00<00:02, 329.28it/s]"
     ]
    },
    {
     "name": "stdout",
     "output_type": "stream",
     "text": [
      "12 loss:0.07653898916228913 train_acc:0.9787818181818182 test_acc:0.9716\n"
     ]
    },
    {
     "name": "stderr",
     "output_type": "stream",
     "text": [
      "100%|██████████| 860/860 [00:02<00:00, 327.99it/s]\n",
      "  4%|▍         | 33/860 [00:00<00:02, 323.33it/s]"
     ]
    },
    {
     "name": "stdout",
     "output_type": "stream",
     "text": [
      "13 loss:0.07034177978707175 train_acc:0.9807636363636364 test_acc:0.9724\n"
     ]
    },
    {
     "name": "stderr",
     "output_type": "stream",
     "text": [
      "100%|██████████| 860/860 [00:02<00:00, 329.23it/s]\n",
      "  4%|▎         | 32/860 [00:00<00:02, 319.64it/s]"
     ]
    },
    {
     "name": "stdout",
     "output_type": "stream",
     "text": [
      "14 loss:0.06473053219338316 train_acc:0.9822727272727273 test_acc:0.9726\n"
     ]
    },
    {
     "name": "stderr",
     "output_type": "stream",
     "text": [
      "100%|██████████| 860/860 [00:02<00:00, 327.97it/s]\n",
      "  4%|▍         | 34/860 [00:00<00:02, 333.34it/s]"
     ]
    },
    {
     "name": "stdout",
     "output_type": "stream",
     "text": [
      "15 loss:0.059619307003070623 train_acc:0.9839818181818182 test_acc:0.9736\n"
     ]
    },
    {
     "name": "stderr",
     "output_type": "stream",
     "text": [
      "100%|██████████| 860/860 [00:02<00:00, 328.88it/s]\n",
      "  4%|▍         | 33/860 [00:00<00:02, 326.31it/s]"
     ]
    },
    {
     "name": "stdout",
     "output_type": "stream",
     "text": [
      "16 loss:0.054947675810043894 train_acc:0.9852909090909091 test_acc:0.9745\n"
     ]
    },
    {
     "name": "stderr",
     "output_type": "stream",
     "text": [
      "100%|██████████| 860/860 [00:02<00:00, 326.88it/s]\n",
      "  4%|▍         | 33/860 [00:00<00:02, 321.82it/s]"
     ]
    },
    {
     "name": "stdout",
     "output_type": "stream",
     "text": [
      "17 loss:0.050660241409313196 train_acc:0.9865272727272727 test_acc:0.975\n"
     ]
    },
    {
     "name": "stderr",
     "output_type": "stream",
     "text": [
      "100%|██████████| 860/860 [00:02<00:00, 328.54it/s]\n",
      "  4%|▍         | 33/860 [00:00<00:02, 325.22it/s]"
     ]
    },
    {
     "name": "stdout",
     "output_type": "stream",
     "text": [
      "18 loss:0.04670028775811282 train_acc:0.9876727272727273 test_acc:0.9753\n"
     ]
    },
    {
     "name": "stderr",
     "output_type": "stream",
     "text": [
      "100%|██████████| 860/860 [00:02<00:00, 327.75it/s]\n",
      "  4%|▎         | 32/860 [00:00<00:02, 315.88it/s]"
     ]
    },
    {
     "name": "stdout",
     "output_type": "stream",
     "text": [
      "19 loss:0.04302743077819604 train_acc:0.9889818181818182 test_acc:0.9763\n"
     ]
    },
    {
     "name": "stderr",
     "output_type": "stream",
     "text": [
      "100%|██████████| 860/860 [00:02<00:00, 326.20it/s]\n",
      "  4%|▍         | 34/860 [00:00<00:02, 334.32it/s]"
     ]
    },
    {
     "name": "stdout",
     "output_type": "stream",
     "text": [
      "20 loss:0.03962471739248221 train_acc:0.9900909090909091 test_acc:0.9768\n"
     ]
    },
    {
     "name": "stderr",
     "output_type": "stream",
     "text": [
      "100%|██████████| 860/860 [00:02<00:00, 328.49it/s]\n",
      "  4%|▍         | 33/860 [00:00<00:02, 325.36it/s]"
     ]
    },
    {
     "name": "stdout",
     "output_type": "stream",
     "text": [
      "21 loss:0.036441213663851536 train_acc:0.9910909090909091 test_acc:0.9771\n"
     ]
    },
    {
     "name": "stderr",
     "output_type": "stream",
     "text": [
      "100%|██████████| 860/860 [00:02<00:00, 293.01it/s]\n",
      "  4%|▍         | 33/860 [00:00<00:02, 320.77it/s]"
     ]
    },
    {
     "name": "stdout",
     "output_type": "stream",
     "text": [
      "22 loss:0.03346304321948569 train_acc:0.9920181818181818 test_acc:0.9776\n"
     ]
    },
    {
     "name": "stderr",
     "output_type": "stream",
     "text": [
      "100%|██████████| 860/860 [00:02<00:00, 326.76it/s]\n",
      "  4%|▍         | 33/860 [00:00<00:02, 329.71it/s]"
     ]
    },
    {
     "name": "stdout",
     "output_type": "stream",
     "text": [
      "23 loss:0.030686716266452918 train_acc:0.9928727272727272 test_acc:0.9778\n"
     ]
    },
    {
     "name": "stderr",
     "output_type": "stream",
     "text": [
      "100%|██████████| 860/860 [00:02<00:00, 325.88it/s]\n",
      "  4%|▎         | 32/860 [00:00<00:02, 314.10it/s]"
     ]
    },
    {
     "name": "stdout",
     "output_type": "stream",
     "text": [
      "24 loss:0.028081936489379164 train_acc:0.9936363636363637 test_acc:0.9783\n"
     ]
    },
    {
     "name": "stderr",
     "output_type": "stream",
     "text": [
      "100%|██████████| 860/860 [00:02<00:00, 315.80it/s]\n",
      "  4%|▎         | 32/860 [00:00<00:02, 318.90it/s]"
     ]
    },
    {
     "name": "stdout",
     "output_type": "stream",
     "text": [
      "25 loss:0.02565117698706968 train_acc:0.9943818181818181 test_acc:0.9782\n"
     ]
    },
    {
     "name": "stderr",
     "output_type": "stream",
     "text": [
      "100%|██████████| 860/860 [00:02<00:00, 326.48it/s]\n",
      "  4%|▍         | 33/860 [00:00<00:02, 323.39it/s]"
     ]
    },
    {
     "name": "stdout",
     "output_type": "stream",
     "text": [
      "26 loss:0.023378414528845096 train_acc:0.9951090909090909 test_acc:0.9781\n"
     ]
    },
    {
     "name": "stderr",
     "output_type": "stream",
     "text": [
      "100%|██████████| 860/860 [00:02<00:00, 315.95it/s]\n",
      "  4%|▍         | 34/860 [00:00<00:02, 331.93it/s]"
     ]
    },
    {
     "name": "stdout",
     "output_type": "stream",
     "text": [
      "27 loss:0.02126515419939858 train_acc:0.9956909090909091 test_acc:0.9781\n"
     ]
    },
    {
     "name": "stderr",
     "output_type": "stream",
     "text": [
      "100%|██████████| 860/860 [00:02<00:00, 326.61it/s]\n",
      "  4%|▍         | 33/860 [00:00<00:02, 329.98it/s]"
     ]
    },
    {
     "name": "stdout",
     "output_type": "stream",
     "text": [
      "28 loss:0.019279592584948553 train_acc:0.9964727272727273 test_acc:0.9782\n"
     ]
    },
    {
     "name": "stderr",
     "output_type": "stream",
     "text": [
      "100%|██████████| 860/860 [00:02<00:00, 329.09it/s]\n",
      "  4%|▍         | 33/860 [00:00<00:02, 326.48it/s]"
     ]
    },
    {
     "name": "stdout",
     "output_type": "stream",
     "text": [
      "29 loss:0.01744428243485366 train_acc:0.996890909090909 test_acc:0.9783\n"
     ]
    },
    {
     "name": "stderr",
     "output_type": "stream",
     "text": [
      "100%|██████████| 860/860 [00:02<00:00, 327.39it/s]\n",
      "  4%|▍         | 34/860 [00:00<00:02, 331.73it/s]"
     ]
    },
    {
     "name": "stdout",
     "output_type": "stream",
     "text": [
      "30 loss:0.01572480803750845 train_acc:0.9975090909090909 test_acc:0.9787\n"
     ]
    },
    {
     "name": "stderr",
     "output_type": "stream",
     "text": [
      "100%|██████████| 860/860 [00:02<00:00, 327.07it/s]\n",
      "  4%|▍         | 34/860 [00:00<00:02, 335.23it/s]"
     ]
    },
    {
     "name": "stdout",
     "output_type": "stream",
     "text": [
      "31 loss:0.014143239419506647 train_acc:0.998 test_acc:0.9785\n"
     ]
    },
    {
     "name": "stderr",
     "output_type": "stream",
     "text": [
      "100%|██████████| 860/860 [00:02<00:00, 328.64it/s]\n",
      "  4%|▍         | 34/860 [00:00<00:02, 333.04it/s]"
     ]
    },
    {
     "name": "stdout",
     "output_type": "stream",
     "text": [
      "32 loss:0.01267373458466081 train_acc:0.9982545454545455 test_acc:0.9785\n"
     ]
    },
    {
     "name": "stderr",
     "output_type": "stream",
     "text": [
      "100%|██████████| 860/860 [00:02<00:00, 327.63it/s]\n",
      "  4%|▍         | 34/860 [00:00<00:02, 330.94it/s]"
     ]
    },
    {
     "name": "stdout",
     "output_type": "stream",
     "text": [
      "33 loss:0.011319421325352715 train_acc:0.9985090909090909 test_acc:0.9787\n"
     ]
    },
    {
     "name": "stderr",
     "output_type": "stream",
     "text": [
      "100%|██████████| 860/860 [00:02<00:00, 325.57it/s]\n",
      "  4%|▎         | 32/860 [00:00<00:02, 318.01it/s]"
     ]
    },
    {
     "name": "stdout",
     "output_type": "stream",
     "text": [
      "34 loss:0.010072806790886653 train_acc:0.9987272727272727 test_acc:0.9785\n"
     ]
    },
    {
     "name": "stderr",
     "output_type": "stream",
     "text": [
      "100%|██████████| 860/860 [00:02<00:00, 326.96it/s]\n",
      "  4%|▍         | 34/860 [00:00<00:02, 333.58it/s]"
     ]
    },
    {
     "name": "stdout",
     "output_type": "stream",
     "text": [
      "35 loss:0.008925176678471765 train_acc:0.9990545454545454 test_acc:0.9783\n"
     ]
    },
    {
     "name": "stderr",
     "output_type": "stream",
     "text": [
      "100%|██████████| 860/860 [00:02<00:00, 328.26it/s]\n",
      "  4%|▍         | 34/860 [00:00<00:02, 330.90it/s]"
     ]
    },
    {
     "name": "stdout",
     "output_type": "stream",
     "text": [
      "36 loss:0.007871557348800368 train_acc:0.9992 test_acc:0.9785\n"
     ]
    },
    {
     "name": "stderr",
     "output_type": "stream",
     "text": [
      "100%|██████████| 860/860 [00:02<00:00, 328.11it/s]\n",
      "  4%|▎         | 32/860 [00:00<00:02, 318.65it/s]"
     ]
    },
    {
     "name": "stdout",
     "output_type": "stream",
     "text": [
      "37 loss:0.0069113882643314145 train_acc:0.9994181818181819 test_acc:0.9788\n"
     ]
    },
    {
     "name": "stderr",
     "output_type": "stream",
     "text": [
      "100%|██████████| 860/860 [00:02<00:00, 329.66it/s]\n",
      "  4%|▍         | 33/860 [00:00<00:02, 326.33it/s]"
     ]
    },
    {
     "name": "stdout",
     "output_type": "stream",
     "text": [
      "38 loss:0.006048757640298369 train_acc:0.9995636363636363 test_acc:0.9793\n"
     ]
    },
    {
     "name": "stderr",
     "output_type": "stream",
     "text": [
      "100%|██████████| 860/860 [00:02<00:00, 327.65it/s]\n",
      "  4%|▍         | 33/860 [00:00<00:02, 324.01it/s]"
     ]
    },
    {
     "name": "stdout",
     "output_type": "stream",
     "text": [
      "39 loss:0.005267488403174063 train_acc:0.9996909090909091 test_acc:0.9795\n"
     ]
    },
    {
     "name": "stderr",
     "output_type": "stream",
     "text": [
      "100%|██████████| 860/860 [00:02<00:00, 323.50it/s]\n",
      "  4%|▍         | 33/860 [00:00<00:02, 326.72it/s]"
     ]
    },
    {
     "name": "stdout",
     "output_type": "stream",
     "text": [
      "40 loss:0.004555206114682098 train_acc:0.9997454545454545 test_acc:0.9797\n"
     ]
    },
    {
     "name": "stderr",
     "output_type": "stream",
     "text": [
      "100%|██████████| 860/860 [00:02<00:00, 319.25it/s]\n",
      "  4%|▍         | 33/860 [00:00<00:02, 320.55it/s]"
     ]
    },
    {
     "name": "stdout",
     "output_type": "stream",
     "text": [
      "41 loss:0.003913740956290154 train_acc:0.9998181818181818 test_acc:0.9792\n"
     ]
    },
    {
     "name": "stderr",
     "output_type": "stream",
     "text": [
      " 50%|████▉     | 426/860 [00:01<00:01, 325.64it/s]\n"
     ]
    },
    {
     "ename": "KeyboardInterrupt",
     "evalue": "",
     "output_type": "error",
     "traceback": [
      "\u001b[0;31m---------------------------------------------------------------------------\u001b[0m",
      "\u001b[0;31mKeyboardInterrupt\u001b[0m                         Traceback (most recent call last)",
      "\u001b[0;32m<ipython-input-11-8871024a3b93>\u001b[0m in \u001b[0;36m<module>\u001b[0;34m\u001b[0m\n\u001b[1;32m     13\u001b[0m             \u001b[0my\u001b[0m\u001b[0;34m=\u001b[0m\u001b[0my\u001b[0m\u001b[0;34m.\u001b[0m\u001b[0mastype\u001b[0m\u001b[0;34m(\u001b[0m\u001b[0mnp\u001b[0m\u001b[0;34m.\u001b[0m\u001b[0mint32\u001b[0m\u001b[0;34m)\u001b[0m\u001b[0;34m\u001b[0m\u001b[0m\n\u001b[1;32m     14\u001b[0m             \u001b[0ml\u001b[0m\u001b[0;34m,\u001b[0m\u001b[0m_\u001b[0m\u001b[0;34m,\u001b[0m\u001b[0mp\u001b[0m\u001b[0;34m=\u001b[0m\u001b[0msess\u001b[0m\u001b[0;34m.\u001b[0m\u001b[0mrun\u001b[0m\u001b[0;34m(\u001b[0m\u001b[0;34m[\u001b[0m\u001b[0mmodel\u001b[0m\u001b[0;34m.\u001b[0m\u001b[0mloss\u001b[0m\u001b[0;34m,\u001b[0m\u001b[0mmodel\u001b[0m\u001b[0;34m.\u001b[0m\u001b[0mopt\u001b[0m\u001b[0;34m,\u001b[0m\u001b[0mmodel\u001b[0m\u001b[0;34m.\u001b[0m\u001b[0mprobs\u001b[0m\u001b[0;34m]\u001b[0m\u001b[0;34m,\u001b[0m\u001b[0mfeed_dict\u001b[0m\u001b[0;34m=\u001b[0m\u001b[0;34m{\u001b[0m\u001b[0mmodel\u001b[0m\u001b[0;34m.\u001b[0m\u001b[0mx\u001b[0m\u001b[0;34m:\u001b[0m\u001b[0mdata\u001b[0m\u001b[0;34m,\u001b[0m\u001b[0mmodel\u001b[0m\u001b[0;34m.\u001b[0m\u001b[0mlabels\u001b[0m\u001b[0;34m:\u001b[0m\u001b[0my\u001b[0m\u001b[0;34m}\u001b[0m\u001b[0;34m)\u001b[0m\u001b[0;34m\u001b[0m\u001b[0m\n\u001b[0;32m---> 15\u001b[0;31m             \u001b[0mtrain_correct\u001b[0m\u001b[0;34m+=\u001b[0m\u001b[0mcheckequal\u001b[0m\u001b[0;34m(\u001b[0m\u001b[0mp\u001b[0m\u001b[0;34m,\u001b[0m\u001b[0my\u001b[0m\u001b[0;34m)\u001b[0m\u001b[0;34m\u001b[0m\u001b[0m\n\u001b[0m\u001b[1;32m     16\u001b[0m             \u001b[0mtrain_total\u001b[0m\u001b[0;34m+=\u001b[0m\u001b[0my\u001b[0m\u001b[0;34m.\u001b[0m\u001b[0mshape\u001b[0m\u001b[0;34m[\u001b[0m\u001b[0;36m0\u001b[0m\u001b[0;34m]\u001b[0m\u001b[0;34m\u001b[0m\u001b[0m\n\u001b[1;32m     17\u001b[0m             \u001b[0mls\u001b[0m\u001b[0;34m+=\u001b[0m\u001b[0ml\u001b[0m\u001b[0;34m\u001b[0m\u001b[0m\n",
      "\u001b[0;32m<ipython-input-7-98ab5a61abc9>\u001b[0m in \u001b[0;36mcheckequal\u001b[0;34m(p, a, axis)\u001b[0m\n\u001b[1;32m      2\u001b[0m     \u001b[0mp\u001b[0m\u001b[0;34m=\u001b[0m\u001b[0mnp\u001b[0m\u001b[0;34m.\u001b[0m\u001b[0margmax\u001b[0m\u001b[0;34m(\u001b[0m\u001b[0mp\u001b[0m\u001b[0;34m,\u001b[0m\u001b[0maxis\u001b[0m\u001b[0;34m=\u001b[0m\u001b[0maxis\u001b[0m\u001b[0;34m)\u001b[0m\u001b[0;34m\u001b[0m\u001b[0m\n\u001b[1;32m      3\u001b[0m     \u001b[0;32mif\u001b[0m \u001b[0maxis\u001b[0m\u001b[0;34m==\u001b[0m\u001b[0;36m0\u001b[0m\u001b[0;34m:\u001b[0m \u001b[0mp\u001b[0m\u001b[0;34m=\u001b[0m\u001b[0mp\u001b[0m\u001b[0;34m.\u001b[0m\u001b[0mT\u001b[0m\u001b[0;34m\u001b[0m\u001b[0m\n\u001b[0;32m----> 4\u001b[0;31m     \u001b[0;32mreturn\u001b[0m \u001b[0mnp\u001b[0m\u001b[0;34m.\u001b[0m\u001b[0msum\u001b[0m\u001b[0;34m(\u001b[0m\u001b[0mp\u001b[0m\u001b[0;34m==\u001b[0m\u001b[0ma\u001b[0m\u001b[0;34m)\u001b[0m\u001b[0;34m\u001b[0m\u001b[0m\n\u001b[0m",
      "\u001b[0;31mKeyboardInterrupt\u001b[0m: "
     ]
    }
   ],
   "source": [
    "import time\n",
    "config = tf.ConfigProto(allow_soft_placement = True)\n",
    "config.gpu_options.allow_growth = True\n",
    "train_stats={}\n",
    "train_stats['index']=[]\n",
    "train_stats['train_loss']=[]\n",
    "train_stats['test_acc']=[]\n",
    "train_stats['train_acc']=[]\n",
    "with tf.Session(config=tf.ConfigProto(log_device_placement=True),graph=model.graph) as sess:\n",
    "    sess.run(tf.global_variables_initializer())\n",
    "    for i in range(num_epochs):\n",
    "        train_stats['index'].append(i)\n",
    "        \n",
    "        ls=0\n",
    "        train_correct=0\n",
    "        train_total=0\n",
    "        for batch in tqdm(train_batches):\n",
    "            data,y=batch[:,:-1],batch[:,-1]\n",
    "            y=y.astype(np.int32)\n",
    "            l,_,p=sess.run([model.loss,model.opt,model.probs],feed_dict={model.x:data,model.labels:y})\n",
    "            train_correct+=checkequal(p,y)\n",
    "            train_total+=y.shape[0]\n",
    "            ls+=l\n",
    "        \n",
    "        ls=ls/len(train_batches)\n",
    "        train_acc=float(train_correct)/float(train_total)\n",
    "        train_stats['train_loss'].append(ls)\n",
    "        train_stats['train_acc'].append(train_acc)\n",
    "        \n",
    "        test_correct=0\n",
    "        test_total=0\n",
    "        for batch in eval_batches:\n",
    "            data,y=batch[:,:-1],batch[:,-1]\n",
    "            p=sess.run(model.probs,feed_dict={model.x:data})\n",
    "            test_correct+=checkequal(p,y)\n",
    "            test_total+=y.shape[0]\n",
    "        \n",
    "        test_acc=float(test_correct)/float(test_total)\n",
    "        train_stats['test_acc'].append(test_acc)\n",
    "        print(str(i)+' loss:'+str(ls)+' train_acc:'+str(train_acc)+' test_acc:'+str(test_acc))\n",
    "        #save model \n",
    "        model.saver.save(sess,'model/notpruned/model.pb')\n",
    "train_df=pd.DataFrame(train_stats)\n",
    "fig, axs = plt.subplots(ncols=3,figsize=(30,10))\n",
    "ax1=sns.pointplot(x='index',y='train_loss',data=train_df,ax=axs[0])\n",
    "ax2=sns.pointplot(x='index',y='train_acc',data=train_df,ax=axs[1])\n",
    "ax3=sns.pointplot(x='index',y='test_acc',data=train_df,ax=axs[2])"
   ]
  },
  {
   "cell_type": "code",
   "execution_count": 8,
   "metadata": {},
   "outputs": [],
   "source": [
    "k=[0, 25, 50, 60, 70, 80, 90, 95, 97, 99]"
   ]
  },
  {
   "cell_type": "code",
   "execution_count": 9,
   "metadata": {},
   "outputs": [],
   "source": [
    "tfe = tf.contrib.eager"
   ]
  },
  {
   "cell_type": "code",
   "execution_count": null,
   "metadata": {},
   "outputs": [],
   "source": [
    "def sparsedensecompare(eval_time_data,eval_acc_data,p):\n",
    "    #this function is used for evaluating the pruned weights on the test set.\n",
    "    #both the pruned (zeroed out but dense) and sparsified weights are evaluated and the timings are compared \n",
    "    time_sparse=time.clock()\n",
    "    with tf.Session(config=config,graph=model.graph) as sess:\n",
    "            test_correct=0\n",
    "            test_total=0\n",
    "            x=tf.placeholder(tf.float32)\n",
    "            #tfe.py_func() iWraps a python function into a TensorFlow op that executes it eagerly \n",
    "            sparseevaluate_func=tfe.py_func(model.sparseevaluateeager,[x],tf.float32)\n",
    "            \n",
    "            #evaluating on test set using sparsed weights\n",
    "            for batch in eval_batches:\n",
    "                data,y=batch[:,:-1],batch[:,-1]  \n",
    "                preds_sparse=sess.run(sparseevaluate_func,feed_dict={x:data.T})\n",
    "                test_correct+=checkequal(preds_sparse,y,axis=0)\n",
    "                test_total+=y.shape[0]\n",
    "                \n",
    "                \n",
    "    time_sparse=time.clock()-time_sparse\n",
    "    test_acc_sparse=float(test_correct)/float(test_total)\n",
    "    eval_time_data['time'].append(time_sparse)\n",
    "    eval_time_data['category'].append('sparse')\n",
    "    \n",
    "    \n",
    "    time_dense = time.clock()\n",
    "    with tf.Session(config=config,graph=model.graph) as sess:       \n",
    "            test_correct=0\n",
    "            test_total=0\n",
    "            x=tf.placeholder(tf.float32)\n",
    "            denseevaluate_func=tfe.py_func(model.denseevaluateeager,[x],tf.float32)\n",
    "            \n",
    "            #evaluating on test set using dense weights (pruned)\n",
    "            for batch in eval_batches:\n",
    "                data,y=batch[:,:-1],batch[:,-1]\n",
    "                preds_dense=sess.run(denseevaluate_func,feed_dict={x:data})\n",
    "                test_correct+=checkequal(preds_dense,y,axis=1)\n",
    "                test_total+=y.shape[0]\n",
    "                \n",
    "    time_dense = time.clock()-time_dense\n",
    "    test_acc_dense=float(test_correct)/float(test_total)\n",
    "    assert test_acc_dense==test_acc_sparse\n",
    "    eval_acc_data['acc'].append(test_acc_dense)\n",
    "    eval_time_data['time'].append(time_dense)\n",
    "    eval_time_data['category'].append('dense')\n",
    "    print('k:'+str(p)+' test_acc:'+str(test_acc)+' time_sparse:'+str(time_sparse)+ ' time_dense:'+str(time_dense))\n",
    "    \n",
    "    \n",
    "    \n",
    "    \n",
    "    "
   ]
  },
  {
   "cell_type": "markdown",
   "metadata": {},
   "source": [
    "# WEIGHT PRUNING"
   ]
  },
  {
   "cell_type": "code",
   "execution_count": 12,
   "metadata": {},
   "outputs": [
    {
     "name": "stdout",
     "output_type": "stream",
     "text": [
      "INFO:tensorflow:Restoring parameters from model/notpruned/model.pb\n",
      "k:0 test_acc:0.9792 time_sparse:0.5868089999999881 time_dense:0.7550389999999823\n",
      "INFO:tensorflow:Restoring parameters from model/notpruned/model.pb\n",
      "k:25 test_acc:0.9786 time_sparse:0.5378089999999816 time_dense:0.7618219999999951\n",
      "INFO:tensorflow:Restoring parameters from model/notpruned/model.pb\n",
      "k:50 test_acc:0.9654 time_sparse:0.4945239999999842 time_dense:0.7407619999999895\n",
      "INFO:tensorflow:Restoring parameters from model/notpruned/model.pb\n",
      "k:60 test_acc:0.9287 time_sparse:0.4752560000000017 time_dense:0.7633979999999951\n",
      "INFO:tensorflow:Restoring parameters from model/notpruned/model.pb\n",
      "k:70 test_acc:0.7515 time_sparse:0.45737099999999486 time_dense:0.7264129999999795\n",
      "INFO:tensorflow:Restoring parameters from model/notpruned/model.pb\n",
      "k:80 test_acc:0.6333 time_sparse:0.4463320000000124 time_dense:0.7552750000000117\n",
      "INFO:tensorflow:Restoring parameters from model/notpruned/model.pb\n",
      "k:90 test_acc:0.5025 time_sparse:0.4176909999999907 time_dense:0.7439740000000086\n",
      "INFO:tensorflow:Restoring parameters from model/notpruned/model.pb\n",
      "k:95 test_acc:0.3342 time_sparse:0.393905999999987 time_dense:0.7471909999999866\n",
      "INFO:tensorflow:Restoring parameters from model/notpruned/model.pb\n",
      "k:97 test_acc:0.2278 time_sparse:0.3977809999999806 time_dense:0.7637070000000108\n",
      "INFO:tensorflow:Restoring parameters from model/notpruned/model.pb\n",
      "k:99 test_acc:0.1377 time_sparse:0.38671999999999684 time_dense:0.7774980000000085\n"
     ]
    },
    {
     "data": {
      "image/png": "[encoded data removed]",
      "text/plain": [
       "<Figure size 2160x720 with 3 Axes>"
      ]
     },
     "metadata": {
      "needs_background": "light"
     },
     "output_type": "display_data"
    }
   ],
   "source": [
    "import time\n",
    "\n",
    "#dictionaries used to store stats for evaluation such as time and accuracy.\n",
    "eval_time_data={}\n",
    "eval_time_data['index']=[]\n",
    "eval_time_data['time']=[]\n",
    "eval_time_data['category']=[]\n",
    "eval_acc_data={}\n",
    "eval_acc_data['k']=[]\n",
    "eval_acc_data['acc']=[]\n",
    "\n",
    "\n",
    "for p in k:\n",
    "    \n",
    "    eval_acc_data['k'].append(p)\n",
    "    eval_time_data['index'].append(p)\n",
    "    eval_time_data['index'].append(p)\n",
    "    config = tf.ConfigProto(allow_soft_placement = True)\n",
    "    config.gpu_options.allow_growth = True\n",
    "    \n",
    "    with tf.Session(config=config,graph=model.graph) as sess:\n",
    "        #retore the not pruned model\n",
    "        model.saver.restore(sess,'model/notpruned/model.pb')\n",
    "        model.sparsified_weights=[]\n",
    "        model.pruned_weights=[]\n",
    "        percentile=tf.placeholder(tf.float32)\n",
    "        wt=tf.placeholder(tf.float32)\n",
    "        \n",
    "        #each weight is pruned using the weightpruneeager function defined in the model\n",
    "        weight_prune_func=tfe.py_func(model.weightpruneeager,[wt,percentile],[tf.float32])\n",
    "        for v in model.varstosparsify:\n",
    "            w=sess.run(v)\n",
    "            #get each weight to be pruned as numpy array and feed it into the eager function (weightpruneeager)  for pruning\n",
    "            sp=sess.run(weight_prune_func,feed_dict={wt:w,percentile:p})\n",
    "        #get last layer as is \n",
    "        last_layer=sess.run(model.last_layer)\n",
    "        model.sparsified_weights.append(last_layer.T)\n",
    "        model.pruned_weights.append(last_layer)\n",
    "    \n",
    "    sparsedensecompare(eval_time_data,eval_acc_data,p)\n",
    "\n",
    "eval_df=pd.DataFrame(eval_time_data)\n",
    "eval_acc_df=pd.DataFrame(eval_acc_data)\n",
    "fig, axs = plt.subplots(ncols=3,figsize=(30,10))\n",
    "\n",
    "ax1=sns.pointplot(x='k',y='acc',data=eval_acc_df,ax=axs[0])\n",
    "ax2=sns.pointplot(x='index',y='time',hue='category',data=eval_df,ax=axs[1])"
   ]
  },
  {
   "cell_type": "markdown",
   "metadata": {},
   "source": [
    "# unit pruning"
   ]
  },
  {
   "cell_type": "code",
   "execution_count": 13,
   "metadata": {},
   "outputs": [
    {
     "name": "stdout",
     "output_type": "stream",
     "text": [
      "INFO:tensorflow:Restoring parameters from model/notpruned/model.pb\n",
      "k:0 test_acc:0.9792 time_sparse:0.6029690000000016 time_dense:0.7649549999999863\n",
      "INFO:tensorflow:Restoring parameters from model/notpruned/model.pb\n",
      "k:25 test_acc:0.9309 time_sparse:0.5683089999999993 time_dense:0.7568809999999928\n",
      "INFO:tensorflow:Restoring parameters from model/notpruned/model.pb\n",
      "k:50 test_acc:0.545 time_sparse:0.4668829999999957 time_dense:0.7623439999999846\n",
      "INFO:tensorflow:Restoring parameters from model/notpruned/model.pb\n",
      "k:60 test_acc:0.4974 time_sparse:0.5433380000000056 time_dense:0.7604359999999986\n",
      "INFO:tensorflow:Restoring parameters from model/notpruned/model.pb\n",
      "k:70 test_acc:0.3435 time_sparse:0.4456220000000144 time_dense:0.7628609999999867\n",
      "INFO:tensorflow:Restoring parameters from model/notpruned/model.pb\n",
      "k:80 test_acc:0.2954 time_sparse:0.46568999999999505 time_dense:0.770465999999999\n",
      "INFO:tensorflow:Restoring parameters from model/notpruned/model.pb\n",
      "k:90 test_acc:0.1323 time_sparse:0.40990099999999074 time_dense:0.7747559999999964\n",
      "INFO:tensorflow:Restoring parameters from model/notpruned/model.pb\n",
      "k:95 test_acc:0.102 time_sparse:0.39547699999999963 time_dense:0.7416660000000093\n",
      "INFO:tensorflow:Restoring parameters from model/notpruned/model.pb\n",
      "k:97 test_acc:0.0906 time_sparse:0.41443000000001007 time_dense:0.7503570000000082\n",
      "INFO:tensorflow:Restoring parameters from model/notpruned/model.pb\n",
      "k:99 test_acc:0.1008 time_sparse:0.402105999999975 time_dense:0.7497139999999831\n"
     ]
    },
    {
     "data": {
      "image/png": "[encoded data removed]",
      "text/plain": [
       "<Figure size 2160x720 with 3 Axes>"
      ]
     },
     "metadata": {
      "needs_background": "light"
     },
     "output_type": "display_data"
    }
   ],
   "source": [
    "eval_time_data={}\n",
    "eval_time_data['index']=[]\n",
    "eval_time_data['time']=[]\n",
    "eval_time_data['category']=[]\n",
    "eval_acc_data={}\n",
    "eval_acc_data['k']=[]\n",
    "eval_acc_data['acc']=[]\n",
    "for p in percentiles:\n",
    "    eval_acc_data['k'].append(p)\n",
    "    eval_time_data['index'].append(p)\n",
    "    eval_time_data['index'].append(p)\n",
    "    config = tf.ConfigProto(allow_soft_placement = True)\n",
    "    config.gpu_options.allow_growth = True\n",
    "    \n",
    "    with tf.Session(config=config,graph=model.graph) as sess:\n",
    "        model.saver.restore(sess,'model/notpruned/model.pb')\n",
    "        model.sparsified_weights=[]\n",
    "        model.pruned_weights=[]\n",
    "        percentile=tf.placeholder(tf.float32)\n",
    "        wt=tf.placeholder(tf.float32)\n",
    "        unit_prune_func=tfe.py_func(model.unitpruneeager,[wt,percentile],[tf.float32])\n",
    "        for v in model.varstosparsify:\n",
    "            w=sess.run(v)\n",
    "            sp=sess.run(unit_prune_func,feed_dict={wt:w,percentile:p})\n",
    "        last_layer=sess.run(model.last_layer)\n",
    "        model.sparsified_weights.append(last_layer.T)\n",
    "        model.pruned_weights.append(last_layer)\n",
    "    \n",
    "    sparsedensecompare(eval_time_data,eval_acc_data,p)\n",
    "eval_df=pd.DataFrame(eval_time_data)\n",
    "eval_acc_df=pd.DataFrame(eval_acc_data)\n",
    "fig, axs = plt.subplots(ncols=3,figsize=(30,10))\n",
    "ax1=sns.pointplot(x='k',y='acc',data=eval_acc_df,ax=axs[0])\n",
    "\n",
    "ax2=sns.pointplot(x='index',y='time',hue='category',data=eval_df,ax=axs[1])"
   ]
  },
  {
   "cell_type": "code",
   "execution_count": null,
   "metadata": {},
   "outputs": [],
   "source": []
  }
 ],
 "metadata": {
  "kernelspec": {
   "display_name": "Python 3",
   "language": "python",
   "name": "python3"
  },
  "language_info": {
   "codemirror_mode": {
    "name": "ipython",
    "version": 3
   },
   "file_extension": ".py",
   "mimetype": "text/x-python",
   "name": "python",
   "nbconvert_exporter": "python",
   "pygments_lexer": "ipython3",
   "version": "3.5.2"
  }
 },
 "nbformat": 4,
 "nbformat_minor": 2
}
